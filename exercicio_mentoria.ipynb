{
 "cells": [
  {
   "cell_type": "markdown",
   "metadata": {},
   "source": [
    "# Para praticar durante o recesso:"
   ]
  },
  {
   "cell_type": "markdown",
   "metadata": {},
   "source": [
    "##### 1️⃣ Crie um programa Python que permita ao usuário inserir itens em uma lista de compras. O programa deve perguntar ao usuário o nome do item e a quantidade desejada, e então adicionar esses detalhes em uma lista. No final, o programa deve exibir a lista completa de compras."
   ]
  },
  {
   "cell_type": "code",
   "execution_count": 25,
   "metadata": {},
   "outputs": [
    {
     "name": "stdout",
     "output_type": "stream",
     "text": [
      "*-*-*-*-*-*-*-*-*-*-*-*-*-*-*-*\n",
      "Vamos anotar o seu pedido\n",
      "*-*-*-*-*-*-*-*-*-*-*-*-*-*-*-*\n",
      "Sua lista de compras final é:\n",
      "arroz 5 \n",
      "feijao 3 \n"
     ]
    }
   ],
   "source": [
    "print('*-*-*-*-*-*-*-*-*-*-*-*-*-*-*-*')\n",
    "print('Vamos anotar o seu pedido')\n",
    "addItem = int(input('Quantos itens deseja colocar na lista?'))\n",
    "contador = 0\n",
    "compras =[]\n",
    "valores_por_linha = 0\n",
    "while contador < addItem:\n",
    "    item = input(f'Digite o nome do produto {contador+1}: ')\n",
    "    quantidade = int(input(f'Digite a quantidade que deseja para o produto {contador+1}: '))\n",
    "    compras.append({'produto': item,'quantidade': quantidade})\n",
    "    contador +=1\n",
    "print('*-*-*-*-*-*-*-*-*-*-*-*-*-*-*-*')\n",
    "print('Sua lista de compras final é:')\n",
    "for produto in compras:\n",
    "    for chave, valor in produto.items():\n",
    "        print(f\"{valor}\",end=\" \")\n",
    "        valores_por_linha += 1\n",
    "        if valores_por_linha % 2 == 0:  # Se dois valores foram impressos, mude para a próxima linha\n",
    "            print()"
   ]
  },
  {
   "cell_type": "markdown",
   "metadata": {},
   "source": [
    "##### 2️⃣ Desenvolva um script Python que calcule a média de um conjunto de notas inseridas pelo usuário. O programa deve pedir ao usuário para inserir o número de notas, receber cada nota, calcular e exibir a média"
   ]
  },
  {
   "cell_type": "code",
   "execution_count": 26,
   "metadata": {},
   "outputs": [
    {
     "name": "stdout",
     "output_type": "stream",
     "text": [
      "A média de notas é:  8.0\n"
     ]
    }
   ],
   "source": [
    "totalNotas = int(input('Qual o total de notas que deseja ver a média? '))\n",
    "contador = 0\n",
    "lista = []\n",
    "while contador < totalNotas:\n",
    "  notas = int(input(f'Digite a nota {contador + 1}: '))\n",
    "  lista.append(notas)\n",
    "  contador +=1\n",
    "\n",
    "print('A média de notas é: ',sum(lista)/len(lista))"
   ]
  },
  {
   "cell_type": "markdown",
   "metadata": {},
   "source": [
    "## Pandas:\n",
    "#### 1️⃣ Crie uma lista de dicionários que contenhas seguintes chaves: código da compra, nome do produto, categoria do produto, quantidade comprada, valor unitário comprado, valor total comprado."
   ]
  },
  {
   "cell_type": "code",
   "execution_count": 27,
   "metadata": {},
   "outputs": [],
   "source": [
    "compras = [\n",
    "  {\n",
    "    'codigoCompra': 'id-001',\n",
    "    'nomeProduto': 'celular',\n",
    "    'categoria': 'telefonia',\n",
    "    'quantidadeComprada': 35,\n",
    "    'valorUnitario': 3500,\n",
    "    'valorCompra': 122500\n",
    "  },\n",
    "  {\n",
    "    'codigoCompra': 'id-002',\n",
    "    'nomeProduto': 'celular',\n",
    "    'categoria': 'telefonia',\n",
    "    'quantidadeComprada': 5,\n",
    "    'valorUnitario': 3500,\n",
    "    'valorCompra': 17500\n",
    "  },\n",
    "  {\n",
    "    'codigoCompra': 'id-003',\n",
    "    'nomeProduto': 'xbox',\n",
    "    'categoria': 'video-game',\n",
    "    'quantidadeComprada': 100,\n",
    "    'valorUnitario': 2000,\n",
    "    'valorCompra': 200000\n",
    "  },\n",
    "  {\n",
    "    'codigoCompra': 'id-004',\n",
    "    'nomeProduto': 'pc gamer',\n",
    "    'categoria': 'informática',\n",
    "    'quantidadeComprada': 50,\n",
    "    'valorUnitario': 8000,\n",
    "    'valorCompra': 40000\n",
    "  },\n",
    "  {\n",
    "    'codigoCompra': 'id-005',\n",
    "    'nomeProduto': 'monitor',\n",
    "    'categoria': 'telas',\n",
    "    'quantidadeComprada': 2245,\n",
    "    'valorUnitario': 1587.94,\n",
    "    'valorCompra': 3564925.3\n",
    "  },\n",
    "  {\n",
    "    'codigoCompra': 'id-006',\n",
    "    'nomeProduto': 'pc-servidor',\n",
    "    'categoria': 'informática',\n",
    "    'quantidadeComprada': 10,\n",
    "    'valorUnitario': 12769,\n",
    "    'valorCompra': 127690\n",
    "  },\n",
    "  {\n",
    "    'codigoCompra': 'id-007',\n",
    "    'nomeProduto': 'placa-de-video',\n",
    "    'categoria': 'informática',\n",
    "    'quantidadeComprada': 80,\n",
    "    'valorUnitario': 12000,\n",
    "    'valorCompra': 960000\n",
    "  },\n",
    "]"
   ]
  },
  {
   "cell_type": "markdown",
   "metadata": {},
   "source": [
    "\n",
    "### 2️⃣ Crie um dataframe e retorne: quantidade vendida por produto, ticket médio, quantidade média comprada por compra e total vendido por produto."
   ]
  },
  {
   "cell_type": "code",
   "execution_count": 28,
   "metadata": {},
   "outputs": [
    {
     "data": {
      "text/plain": [
       "nomeProduto\n",
       "celular             40\n",
       "monitor           2245\n",
       "pc gamer            50\n",
       "pc-servidor         10\n",
       "placa-de-video      80\n",
       "xbox               100\n",
       "Name: quantidadeComprada, dtype: int64"
      ]
     },
     "execution_count": 28,
     "metadata": {},
     "output_type": "execute_result"
    }
   ],
   "source": [
    "import pandas as pd\n",
    "# Quantidade vendida\n",
    "df = pd.DataFrame(compras)\n",
    "df.groupby(by='nomeProduto')['quantidadeComprada'].sum() #   [['nomeProduto','quantidadeComprada']]"
   ]
  },
  {
   "cell_type": "code",
   "execution_count": 13,
   "metadata": {},
   "outputs": [
    {
     "data": {
      "text/plain": [
       "718945.0428571429"
      ]
     },
     "execution_count": 13,
     "metadata": {},
     "output_type": "execute_result"
    }
   ],
   "source": [
    "# Ticket Médio\n",
    "df['valorCompra'].sum()/df['valorCompra'].size"
   ]
  },
  {
   "cell_type": "code",
   "execution_count": 16,
   "metadata": {},
   "outputs": [
    {
     "data": {
      "text/plain": [
       "360.7142857142857"
      ]
     },
     "execution_count": 16,
     "metadata": {},
     "output_type": "execute_result"
    }
   ],
   "source": [
    "# Quantidade média comprada por compra\n",
    "df['quantidadeComprada'].sum()/df['quantidadeComprada'].size"
   ]
  },
  {
   "cell_type": "code",
   "execution_count": 24,
   "metadata": {},
   "outputs": [
    {
     "data": {
      "text/plain": [
       "nomeProduto\n",
       "celular            140000.0\n",
       "monitor           3564925.3\n",
       "pc gamer            40000.0\n",
       "pc-servidor        127690.0\n",
       "placa-de-video     960000.0\n",
       "xbox               200000.0\n",
       "Name: valorCompra, dtype: float64"
      ]
     },
     "execution_count": 24,
     "metadata": {},
     "output_type": "execute_result"
    }
   ],
   "source": [
    "# Total vendido por produto\n",
    "df.groupby(by='nomeProduto')['valorCompra'].sum()"
   ]
  }
 ],
 "metadata": {
  "kernelspec": {
   "display_name": "Python 3",
   "language": "python",
   "name": "python3"
  },
  "language_info": {
   "codemirror_mode": {
    "name": "ipython",
    "version": 3
   },
   "file_extension": ".py",
   "mimetype": "text/x-python",
   "name": "python",
   "nbconvert_exporter": "python",
   "pygments_lexer": "ipython3",
   "version": "3.9.6"
  },
  "orig_nbformat": 4
 },
 "nbformat": 4,
 "nbformat_minor": 2
}
